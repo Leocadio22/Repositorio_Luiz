{
  "nbformat": 4,
  "nbformat_minor": 0,
  "metadata": {
    "colab": {
      "name": "EXERCÍCIO 23+",
      "provenance": [],
      "collapsed_sections": [],
      "authorship_tag": "ABX9TyNWbjOnFIRnADCXHqcDZg5Y",
      "include_colab_link": true
    },
    "kernelspec": {
      "name": "python3",
      "display_name": "Python 3"
    },
    "language_info": {
      "name": "python"
    }
  },
  "cells": [
    {
      "cell_type": "markdown",
      "metadata": {
        "id": "view-in-github",
        "colab_type": "text"
      },
      "source": [
        "<a href=\"https://colab.research.google.com/github/Leocadio22/Repositorio_Luiz/blob/main/EXERC%C3%8DCIO_23%2B.ipynb\" target=\"_parent\"><img src=\"https://colab.research.google.com/assets/colab-badge.svg\" alt=\"Open In Colab\"/></a>"
      ]
    },
    {
      "cell_type": "code",
      "execution_count": null,
      "metadata": {
        "colab": {
          "base_uri": "https://localhost:8080/"
        },
        "id": "LpdEEImpvytu",
        "outputId": "62e9eee7-4e81-45fb-e93e-3d1620b671b6"
      },
      "outputs": [
        {
          "output_type": "stream",
          "name": "stdout",
          "text": [
            "A == B False\n",
            "B > A True\n",
            "A < B True\n",
            "A == D True\n",
            "B >= A True\n",
            "C <= B True\n",
            "D != A False\n",
            "D != B True\n"
          ]
        }
      ],
      "source": [
        "#EXERCÍCIO \n",
        "A = 1\n",
        "B = 5\n",
        "C = 2\n",
        "D = 1\n",
        "print(\"A == B {}\".format(A == B)) #  (A)  igual a     (B)\n",
        "print(\"B > A {}\".format(B > A))   #  B  maior que     (A)\n",
        "print(\"A < B {}\".format(A < B))   #  A  menor que     (B)\n",
        "print(\"A == D {}\".format(A == D)) #  A  igual a       D\n",
        "print(\"B >= A {}\".format(B >= A)) #  B  maior igual a A\n",
        "print(\"C <= B {}\".format(C <= B)) #  C  menor igual a B\n",
        "print(\"D != A {}\".format(D != A)) #  D diferente de   A \n",
        "print(\"D != B {}\".format(D != B)) #  D diferente de   B"
      ]
    },
    {
      "cell_type": "code",
      "source": [
        "#EXERCÍCIO 5.23\n",
        "#Escreva o código da figura 5.5 de modo a armazenar os valores lógicos em\n",
        "#variáveis, e após isso, mostrar o resultado como na figura mencionada.\n",
        "print(\"<><><>OOOO MOSTRE OS VALORES LÓGICO <><><>OOOO\")\n",
        "print(\"===============================\")\n",
        "A = int(input(\"INFORME O VALOR DE A \"))\n",
        "B = int(input(\"INFORME O VALOR DE B \"))\n",
        "C = int(input(\"INFORME O VALOR DE C \"))\n",
        "D = int(input(\"INFORME O VALOR DE D \"))\n",
        "print(\"=============================\")\n",
        "E = (A == B)\n",
        "F = (B > A)\n",
        "G = (A < B)\n",
        "H = (A == D)\n",
        "I = (B >= A)\n",
        "J = (C <= B)\n",
        "L = (D != A)\n",
        "M = (D != B)\n",
        "\n",
        "print(\"O VALOR INFORMADO DE A FOI {}\".format(A))\n",
        "print(\"O VALOR INFORMADO DE B FOI {}\".format(B))\n",
        "print(\"O VALOR INFORMADO DE C FOI {}\".format(C))\n",
        "print(\"O VALOR INFORMADO DE D FOI {}\".format(D))\n",
        "print(\"===============================\")\n",
        "print(\"**** RESULTADO DE CADA LÓGICA ****\")\n",
        "print(\"O VALOR LÓGICO DE: (E) É ({})\".format(E))\n",
        "print(\"O VALOR LÓGICO DE: (F) É ({})\".format(F))\n",
        "print(\"O VALOR LÓGICO DE: (G) É ({})\".format(G))\n",
        "print(\"O VALOR LÓGICO DE: (H) É ({})\".format(H))\n",
        "print(\"O VALOR LÓGICO DE: (I) É ({})\".format(I))\n",
        "print(\"O VALOR LÓGICO DE: (J) É ({})\".format(J))\n",
        "print(\"O VALOR LÓGICO DE: (L) É ({})\".format(L))\n",
        "print(\"O VALOR LÓGICO DE: (M) É ({})\".format(M))\n",
        "print(\"==== FIM====\")"
      ],
      "metadata": {
        "colab": {
          "base_uri": "https://localhost:8080/"
        },
        "id": "ZCyvFODk4D26",
        "outputId": "678b3f1d-b332-4d30-9aca-8c77fe51cd81"
      },
      "execution_count": null,
      "outputs": [
        {
          "output_type": "stream",
          "name": "stdout",
          "text": [
            "<><><>OOOO MOSTRE OS VALORES LÓGICO <><><>OOOO\n",
            "===============================\n",
            "INFORME O VALOR DE A 4\n",
            "INFORME O VALOR DE B 4\n",
            "INFORME O VALOR DE C 4\n",
            "INFORME O VALOR DE D 4\n",
            "=============================\n",
            "O VALOR INFORMADO DE A FOI 4\n",
            "O VALOR INFORMADO DE B FOI 4\n",
            "O VALOR INFORMADO DE C FOI 4\n",
            "O VALOR INFORMADO DE D FOI 4\n",
            "===============================\n",
            "**** RESULTADO DE CADA LÓGICA ****\n",
            "O VALOR LÓGICO DE: (E) É (True)\n",
            "O VALOR LÓGICO DE: (F) É (False)\n",
            "O VALOR LÓGICO DE: (G) É (False)\n",
            "O VALOR LÓGICO DE: (H) É (True)\n",
            "O VALOR LÓGICO DE: (I) É (True)\n",
            "O VALOR LÓGICO DE: (J) É (True)\n",
            "O VALOR LÓGICO DE: (L) É (False)\n",
            "O VALOR LÓGICO DE: (M) É (False)\n",
            "==== FIM====\n"
          ]
        }
      ]
    },
    {
      "cell_type": "code",
      "source": [
        "#Exercício 5.24 \n",
        "#Construa um programa em python que tenha como entrada a idade de uma\n",
        "#pessoa, e diga se ela é maior ou menor de idade.\n",
        "print(\"====== INFORMA A MAIOR IDADE ======\")\n",
        "idade = int(input(\"DIGITE A SUA IDADE ---->  \"))\n",
        "print(\"A IDADE INFORMADA FOI {}\".format(idade))\n",
        "if idade <= 17:\n",
        "     print(\"VOCÊ É MENOR DE IDADE\")\n",
        "else:\n",
        "     print(\"VOCÊ É MAIOR DE IDADE\")\n"
      ],
      "metadata": {
        "colab": {
          "base_uri": "https://localhost:8080/"
        },
        "id": "CfnoplsiKHFG",
        "outputId": "2e7eaefc-d90b-4dc7-8a03-2d0d76114a19"
      },
      "execution_count": null,
      "outputs": [
        {
          "output_type": "stream",
          "name": "stdout",
          "text": [
            "====== INFORMA A MAIOR IDADE ======\n",
            "DIGITE A SUA IDADE ---->  18\n",
            "A IDADE INFORMADA FOI 18\n",
            "VOCÊ É MAIOR DE IDADE\n"
          ]
        }
      ]
    },
    {
      "cell_type": "code",
      "source": [
        "#Exercício 5.25 \n",
        "#Construa um programa em python que lei as 4 notas de um aluno e diga se\n",
        "#ele foi aprovado ou não. Considere que para ser aprovado, necessita que a média das notas\n",
        "#seja igual ou maior que 8.\n",
        "print(\"########### RELATÓRIO FINAL DA TURMA ##########\")\n",
        "print(\"===============================================\")\n",
        "NOT1 = float(input(\"INFORME A NOTA 1 --->\"))\n",
        "NOT2 = float(input(\"INFORME A NOTA 2 --->\" ))\n",
        "NOT3 = float(input(\"INFORME A NOTA 3 --->\"))\n",
        "NOT4 = float(input(\"INFORME A NOTA 4 --->\"))\n",
        "print(\"==============================================\")\n",
        "MEDIA = (NOT1 + NOT2 + NOT3 + NOT4) / 4\n",
        "print(\"SUA MÉDIA FOI:{:2f}\".format(MEDIA))\n",
        "if MEDIA >= 8:\n",
        "  print(\"PARABÉNS VOCÊ FOI APROVADO!!!\")\n",
        "else:\n",
        "  print(\"NÃO FOI DESSA VEZ, ESTUDE MAIS!!!\")\n",
        "\n",
        "print(\"=============================================\")  \n",
        "\n",
        "\n",
        "\n"
      ],
      "metadata": {
        "colab": {
          "base_uri": "https://localhost:8080/"
        },
        "id": "Bii2dw2YXkUp",
        "outputId": "3bbb321e-f99b-43a6-f07c-11d5db7867fd"
      },
      "execution_count": null,
      "outputs": [
        {
          "output_type": "stream",
          "name": "stdout",
          "text": [
            "########### RELATÓRIO FINAL DA TURMA ##########\n",
            "===============================================\n",
            "INFORME A NOTA 1 --->9.8\n",
            "INFORME A NOTA 2 --->8.6\n",
            "INFORME A NOTA 3 --->9.4\n",
            "INFORME A NOTA 4 --->7.5\n",
            "==============================================\n",
            "SUA MÉDIA FOI:8.825000\n",
            "PARABÉNS VOCÊ FOI APROVADO!!!\n",
            "=============================================\n"
          ]
        }
      ]
    },
    {
      "cell_type": "code",
      "source": [
        "#Exercício 5.26 \n",
        "#Construa um programa em python que diga se um carro é econômico ou não.\n",
        "#Para isso, tenha como entrada os parâmetros distância percorrida e quantidade, em litros, de\n",
        "#combustível consumido. Para o carro ser econômico, considere que o consumo (distância\n",
        "#percorrida / quantidade de combustível consumido) deve ser maior ou igual a 18.\n",
        "print(\"********* RELATÓRIO DE CONSUMO DE UM CARRO *********\")\n",
        "DIST_PERC = int(input(\"INFORME A DISTÂNCIA PERCURRIDA \"))\n",
        "CONSUMO =   int(input(\"INFORME O CONSUMO DE COMBUSTIVEL \"))\n",
        "print(\"===================================================\") \n",
        "MEDIA_CONSUMO = DIST_PERC / CONSUMO\n",
        "print(\"A DISTÃNCIA PERCORRIDA FOI {}KM\\nO CONSUMO DE COMBUSTÍVEL FOI {}L\\nA MÉDIA DE CONSUMO FOI {}KM/L\".format(DIST_PERC, CONSUMO,MEDIA_CONSUMO))\n",
        "if MEDIA_CONSUMO >= 18:\n",
        "  print(\"O SEU CARRO É ECONÔMICO!!!\")\n",
        "else:\n",
        "  print(\"O SEU CARRO NÃO É ECONÕMICO!!!\")\n",
        "\n",
        "\n",
        "\n",
        "\n",
        "\n"
      ],
      "metadata": {
        "id": "sHktaBD3d-Od",
        "colab": {
          "base_uri": "https://localhost:8080/"
        },
        "outputId": "43fa6f07-30ae-4fa1-ef76-9e6ec4dd465a"
      },
      "execution_count": null,
      "outputs": [
        {
          "output_type": "stream",
          "name": "stdout",
          "text": [
            "********* RELATÓRIO DE CONSUMO DE UM CARRO *********\n",
            "INFORME A DISTÂNCIA PERCURRIDA 40\n",
            "INFORME O CONSUMO DE COMBUSTIVEL 1\n",
            "===================================================\n",
            "A DISTÃNCIA PERCORRIDA FOI 40KM\n",
            "O CONSUMO DE COMBUSTÍVEL FOI 1L\n",
            "A MÉDIA DE CONSUMO FOI 40.0KM/L\n",
            "O SEU CARRO É ECONÔMICO!!!\n"
          ]
        }
      ]
    },
    {
      "cell_type": "code",
      "source": [
        "#Exercício 5.27 \n",
        "#Construa um programa em python que diga se um número é par ou não.\n",
        "#Obs.: a função % (resto da divisão) será útil nessa tarefa.\n",
        "print(\"############ INFORMA SE O NUMERO DIGITADO É (PAR OU ÍMPAR)############\")\n",
        "NUM = int(input(\"DIGITE UM NÚMERO \"))\n",
        "RESTO = NUM % 2\n",
        "print(\"======================================================================\")\n",
        "print(\"O NÚMERO QUE VOCÊ INFORMOU FOI {}\".format(NUM))\n",
        "print(\"======================================================================\")\n",
        "if RESTO == 1:\n",
        "  print(\"ESSE NUMERO  É ÍMPAR !!!\")\n",
        "else:\n",
        "  print(\"ESSE NÚMERO É PAR !!!\")  \n"
      ],
      "metadata": {
        "colab": {
          "base_uri": "https://localhost:8080/"
        },
        "id": "70faSDjXMc8l",
        "outputId": "7e56c2cd-932a-4ca2-dc1a-f7219a3eb596"
      },
      "execution_count": null,
      "outputs": [
        {
          "output_type": "stream",
          "name": "stdout",
          "text": [
            "############ INFORMA SE O NUMERO DIGITADO É (PAR OU ÍMPAR)############\n",
            "DIGITE UM NÚMERO 769\n",
            "======================================================================\n",
            "O NÚMERO QUE VOCÊ INFORMOU FOI 769\n",
            "======================================================================\n",
            "ESSE NUMERO  É ÍMPAR !!!\n"
          ]
        }
      ]
    },
    {
      "cell_type": "code",
      "source": [
        "#Exercício 5.28 \n",
        "#Escreva uma expressão, em python, para determinar se uma pessoa\n",
        "#deve ou não pagar imposto. Considere que pagam imposto pessoas cujo salário é\n",
        "#aior que R$ 1.200,00.\n",
        "print(\"########### DETERMINAR NIVEL SALARIO DE UM FUCIONARIO ##############\")\n",
        "SALARIO = float(input(\"INFORME O SEU SALÁRIO \"))\n",
        "if SALARIO > 1.200:\n",
        "  print(\"VOCÊ DEVE PAGA IMPOSTO!!\")\n",
        "else:\n",
        "  print(\"VOCÊ NAO PAGA IMPOSTO!!\")  \n"
      ],
      "metadata": {
        "colab": {
          "base_uri": "https://localhost:8080/"
        },
        "id": "tWSDs5PIRyTf",
        "outputId": "2caa8ca0-531d-4668-9ee0-b4592de56cca"
      },
      "execution_count": null,
      "outputs": [
        {
          "output_type": "stream",
          "name": "stdout",
          "text": [
            "########### DETERMINAR NIVEL SALARIO DE UM FUCIONARIO ##############\n",
            "INFORME O SEU SALÁRIO 1277\n",
            "VOCÊ DEVE PAGA IMPOSTO!!\n"
          ]
        }
      ]
    },
    {
      "cell_type": "code",
      "source": [
        "#Exercício 5.29 \n",
        "#Calcule o resultado da expressão A > B and C or D, utilizando os\n",
        "#valores da tabela a seguir.\n",
        "print(\"=========== CALCULE O RESULTADO=====================\")\n",
        "A = int(input(\"DIGITE (A) \")) \n",
        "B = int(input(\"DIGITE (B) \"))\n",
        "C = int(input(\"DIGITE (0) PARA False E (1) PARA True \"))\n",
        "D = int(input(\"DIGITE (0) PARA False E (1) PARA True \"))\n",
        "RESP = A > B and C or D \n",
        "#print(\"A RESPOSTA DA EXPRESSÃO É: {}\".format(RESP))\n",
        "if RESP == 0:\n",
        "  print(\"O VALOR DA EXPRESSÃO É False !!!\")\n",
        "else:\n",
        "  print(\"O VALOR DA EXPRESSÃO E VERDADEIRA!!!\")  \n"
      ],
      "metadata": {
        "id": "GUxTkP0Ef2bu",
        "outputId": "0bf9770e-c3e9-4eba-e54d-1b62698d00a3",
        "colab": {
          "base_uri": "https://localhost:8080/"
        }
      },
      "execution_count": null,
      "outputs": [
        {
          "output_type": "stream",
          "name": "stdout",
          "text": [
            "=========== CALCULE O RESULTADO=====================\n",
            "DIGITE (A) 5\n",
            "DIGITE (B) 7\n",
            "DIGITE (0) PARA False E (1) PARA True 1\n",
            "DIGITE (0) PARA False E (1) PARA True 1\n",
            "O VALOR DA EXPRESSÃO E VERDADEIRA!!!\n"
          ]
        }
      ]
    },
    {
      "cell_type": "code",
      "source": [
        "#Exercício 5.31 \n",
        "#Faça um programa que peça dois números inteiros. Imprima a soma\n",
        "#desses dois números na tela.\n",
        "print(\"[===== SOMA DE DOIS NUMERO INTEIRO =====]\")\n",
        "\n",
        "N1 = int(input(\"### DIGITE O PRIMEIRO NÚMERO ---> \"))\n",
        "N2 = int(input(\"### DIGITE O SEGUNDO NÚMERO ---> \"))\n",
        "SOMA = N1 + N2 \n",
        "print(\"A SOMA DE:\\n {} + {} = {}\".format(N1, N2, SOMA))"
      ],
      "metadata": {
        "colab": {
          "base_uri": "https://localhost:8080/"
        },
        "id": "NiKQZrnsXe3F",
        "outputId": "68dd99d3-a664-4764-d880-f5979f200941"
      },
      "execution_count": null,
      "outputs": [
        {
          "output_type": "stream",
          "name": "stdout",
          "text": [
            "[===== SOMA DE DOIS NUMERO INTEIRO =====]\n",
            "### DIGITE O PRIMEIRO NÚMERO ---> 5\n",
            "### DIGITE O SEGUNDO NÚMERO ---> 5\n",
            "A SOMA DE:\n",
            " 5 + 5 = 10\n"
          ]
        }
      ]
    },
    {
      "cell_type": "code",
      "source": [
        "#Exercício 5.32\n",
        "#Escreva um programa que leia um valor em metros e o exiba convertido\n",
        "#em milímetros.\n",
        "print(\"######----> CONVERSOR DE MEDIDA <----######\")\n",
        "METRO = float(input(\"DIGITE A DISTÊNCIA EM METRO --> \"))\n",
        "MILIMITRO = METRO * 1000\n",
        "print(\"A DISTÂNCIA DIGITADA FOI: {}M\\nA DISTÂNCIA EM MILÍMETRO É {}mm\".format(METRO, MILIMITRO))"
      ],
      "metadata": {
        "colab": {
          "base_uri": "https://localhost:8080/"
        },
        "id": "QIEdHBZSanmn",
        "outputId": "9f85ec42-deef-4d14-d22a-e410688b42b7"
      },
      "execution_count": null,
      "outputs": [
        {
          "output_type": "stream",
          "name": "stdout",
          "text": [
            "######----> CONVERSOR DE MEDIDA <----######\n",
            "DIGITE A DISTÊNCIA EM METRO --> 2.4\n",
            "A DISTÂNCIA DIGITADA FOI: 2.4M\n",
            "A DISTÂNCIA EM MILÍMETRO É 2400.0mm\n"
          ]
        }
      ]
    },
    {
      "cell_type": "code",
      "source": [
        "#Exercício 5.33 \n",
        "#Escreva um programa que leia a quantidade de dias, horas, minutos e\n",
        "#segundos do usuário. Calcule o total em segundos.\n"
      ],
      "metadata": {
        "id": "_3_ZcghJef3k"
      },
      "execution_count": null,
      "outputs": []
    },
    {
      "cell_type": "code",
      "source": [
        "#Exercício 5.34\n",
        "#Faça um programa que calcule o aumento de um salário. Ele deve\n",
        "#olicitar o valor do salário e a porcentagem do aumento. Exiba o valor do aumento e do\n",
        "#novo salário.\n",
        "\n",
        "print(\"&&&&&&&& TABELA DE CALCULO DE AUMENTRO DE SALÁRIO &&&&&&&&&\")\n",
        "SAL_AT = float(input(\"DIGITE O VALOR DO SALÁRIO ATUAL -->\"))\n",
        "TAX = float(input(\"DIGITE A TAXA DE AUMENTO --> \"))\n",
        "TAXA = TAX / 100\n",
        "AUMENTRO = SAL_AT * TAXA\n",
        "NOVO_SAL = SAL_AT + AUMENTRO\n",
        "print(\"O SALÁRIO ATUAL É : R${}\\nA TAXA DE AUMENTO FOI : {}%\\nO AUMENTO FOI: R${}\\nO NOVO SALÁRIO È: {}\".format(SAL_AT, TAX, AUMENTRO, NOVO_SAL ))\n"
      ],
      "metadata": {
        "colab": {
          "base_uri": "https://localhost:8080/"
        },
        "id": "Nwj-_9OhfX4z",
        "outputId": "edaec7f9-7387-420f-ea41-36bcc86c4617"
      },
      "execution_count": null,
      "outputs": [
        {
          "output_type": "stream",
          "name": "stdout",
          "text": [
            "&&&&&&&& TABELA DE CALCULO DE AUMENTRO DE SALÁRIO &&&&&&&&&\n",
            "DIGITE O VALOR DO SALÁRIO ATUAL -->3800\n",
            "DIGITE A TAXA DE AUMENTO --> 23\n",
            "O SALÁRIO ATUAL É : R$3800.0\n",
            "A TAXA DE AUMENTO FOI : 23.0%\n",
            "O AUMENTO FOI: R$874.0\n",
            "O NOVO SALÁRIO È: 4674.0\n"
          ]
        }
      ]
    },
    {
      "cell_type": "code",
      "source": [
        "#Exercício 5.35 \n",
        "#Faça um programa que solicite o preço de uma mercadoria e o\n",
        "#percentual de desconto. Exiba o valor do desconto e o preço a pagar.\n",
        "print(\"############## INFORMA O DESCONTO #############\")\n",
        "MERCADORIA = float(input(\"INFORME O VALOR DE SUA MERCADORIA -->  \"))\n",
        "TAX = float(input(\"INFORME A TAXA DE DESCONTO -->  \"))\n",
        "DESCONTO = MERCADORIA * ( TAX / 100)\n",
        "VALOR_TOTAL = MERCADORIA - DESCONTO\n",
        "print(\"==============================================\")\n",
        "print(\"O VALOR DE SUA COMPRA FOI: R${}\\nSUA TAXA DE DESCONTO FOI: {}%\\nO DESCONTO É: R${}\".format(MERCADORIA, TAX, DESCONTO))\n",
        "print(\"==============================================\")\n",
        "print(\"O VALOR COM DESCONTO SERÁ: R${:1f}\".format(VALOR_TOTAL))-+."
      ],
      "metadata": {
        "colab": {
          "base_uri": "https://localhost:8080/"
        },
        "id": "VjQypF26Se9S",
        "outputId": "1dd92fd3-ef85-4f2c-82a1-36ea759ad5ad"
      },
      "execution_count": 7,
      "outputs": [
        {
          "output_type": "stream",
          "name": "stdout",
          "text": [
            "############## INFORMA O DESCONTO #############\n",
            "INFORME O VALOR DE SUA MERCADORIA -->  4000\n",
            "INFORME A TAXA DE DESCONTO -->  10\n",
            "==============================================\n",
            "O VALOR DE SUA COMPRA FOI: R$4000.0\n",
            "SUA TAXA DE DESCONTO FOI: 10.0%\n",
            "O DESCONTO É: R$400.0\n",
            "==============================================\n",
            "O VALOR COM DESCONTO SERÁ: R$3600.000000\n"
          ]
        }
      ]
    },
    {
      "cell_type": "code",
      "source": [
        "#Exercício 5.36 \n",
        "#Escreva um programa que calcule o tempo de uma viagem de carro.\n",
        "#Pergunte a distância a percorrer e a velocidade média esperada para a viagem.\n",
        "print(\"==== CALCULA TEMPO MÉDIO DE VIAGEM DE CARRO ==== \")\n",
        "DISTANCIA = float(input(\"INFORME A DISTÂNCIA PERCORRIDA --> \"))\n",
        "VEL_MEDIA = float(input(\"INFORME SUA VELOCIDADE MÉDIA --> \"))\n",
        "TEMPO = VEL_MEDIA / DISTANCIA\n",
        "print(\"O TEMPO SERÁ DE {}\".format(TEMPO))\n"
      ],
      "metadata": {
        "colab": {
          "base_uri": "https://localhost:8080/"
        },
        "id": "ke-gSdD9XkU-",
        "outputId": "81bcbe09-7999-414f-d73a-4fa9d38f56e6"
      },
      "execution_count": 13,
      "outputs": [
        {
          "output_type": "stream",
          "name": "stdout",
          "text": [
            "==== CALCULA TEMPO MÉDIO DE VIAGEM DE CARRO ==== \n",
            "INFORME A DISTÂNCIA PERCORRIDA --> 100\n",
            "INFORME SUA VELOCIDADE MÉDIA --> 60\n",
            "O TEMPO SERÁ DE 0.6\n"
          ]
        }
      ]
    },
    {
      "cell_type": "code",
      "source": [
        "#Exercício 5.37 \n",
        "#Escreva um programa que converta uma temperatura digitada em °C em\n",
        "#°F. A fórmula para essa conversão é:\n",
        "print(\"====== CONVERSOR DE TEMPERATURA ======\")\n",
        "C = float(input(\"DIGITE A TEMPERATURA EM SELSE --> \"))\n",
        "F = (9 * C) / 5 + 32 \n",
        "print(\"A TEMPERATURA EM SELSE É: {}\\nA TEMPERATURA EM F {}\".format(C, F))\n"
      ],
      "metadata": {
        "colab": {
          "base_uri": "https://localhost:8080/"
        },
        "id": "NOzkoIknbhly",
        "outputId": "eb4abf10-00c0-4ff5-bb2a-9c20199828b0"
      },
      "execution_count": 27,
      "outputs": [
        {
          "output_type": "stream",
          "name": "stdout",
          "text": [
            "====== CONVERSOR DE TEMPERATURA ======\n",
            "DIGITE A TEMPERATURA EM SELSE --> 30\n",
            "A TEMPERATURA EM SELSE É: 30.0\n",
            "A TEMPERATURA EM F 86.0\n"
          ]
        }
      ]
    },
    {
      "cell_type": "code",
      "source": [
        "#Exercício 5.38 \n",
        "#Escreva um programa que pergunte a quantidade de km percorridos por\n",
        "#um carro alugado pelo usuário, assim como a quantidade de dias pelos quais o carro foi\n",
        "#alugado. Calcule o preço a pagar, sabendo que o carro custa R$ 60 por dia e R$ 0,15\n",
        "#por km rodado.\n",
        "print(\"========TABELA DE PREÇO DE ALUGUEL DE CARRO =======\")\n",
        "DIS_PERCORIDA = int(input(\"INFORME A DISTÂNCIA PERCORRIDA PELO CARRO --> \"))\n",
        "DIAS = int(input(\"INFORME QUANTOS DIAS DESEJA FICA COM O CARRO --> \"))\n",
        "DIA = DIAS * 60\n",
        "KM = 0.15\n",
        "TOTAL = (DIS_PERCORIDA * KM) + DIA\n",
        "print(\"A DISTÂNCIA PERCORRIDA FOI {}KM\\nTOTAL DE DIAS ALUGADO {} DIAS\\nVALOR À PAGAR PELO ALUGUEU DO CARRO R${}\".format(DIS_PERCORIDA, DIAS, TOTAL ))\n"
      ],
      "metadata": {
        "colab": {
          "base_uri": "https://localhost:8080/"
        },
        "id": "-6YBKlbRf5x7",
        "outputId": "2a8dfc0e-d369-4ab4-bfa1-af1c2c3f059e"
      },
      "execution_count": 30,
      "outputs": [
        {
          "output_type": "stream",
          "name": "stdout",
          "text": [
            "========TABELA DE PREÇO DE ALUGUEL DE CARRO =======\n",
            "INFORME A DISTÂNCIA PERCORRIDA PELO CARRO --> 2000\n",
            "INFORME QUANTOS DIAS DESEJA FICA COM O CARRO --> 5\n",
            "A DISTÂNCIA PERCORRIDA FOI 2000KM\n",
            "TOTAL DE DIAS ALUGADO 5 DIAS\n",
            "VALOR À PAGAR PELO ALUGUEU DO CARRO R$600.0\n"
          ]
        }
      ]
    },
    {
      "cell_type": "code",
      "source": [
        ""
      ],
      "metadata": {
        "id": "nXm3qOxdlOCb"
      },
      "execution_count": null,
      "outputs": []
    },
    {
      "cell_type": "code",
      "source": [
        ""
      ],
      "metadata": {
        "id": "wWWPWFHSnJpX"
      },
      "execution_count": null,
      "outputs": []
    }
  ]
}
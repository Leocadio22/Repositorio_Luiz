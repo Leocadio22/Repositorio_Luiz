{
  "nbformat": 4,
  "nbformat_minor": 0,
  "metadata": {
    "colab": {
      "name": "EXERCÍCIO 23+",
      "provenance": [],
      "collapsed_sections": [],
      "authorship_tag": "ABX9TyMYyjkcGBWX5SwKyPPn46j7",
      "include_colab_link": true
    },
    "kernelspec": {
      "name": "python3",
      "display_name": "Python 3"
    },
    "language_info": {
      "name": "python"
    }
  },
  "cells": [
    {
      "cell_type": "markdown",
      "metadata": {
        "id": "view-in-github",
        "colab_type": "text"
      },
      "source": [
        "<a href=\"https://colab.research.google.com/github/Leocadio22/Repositorio_Luiz/blob/main/EXERC%C3%8DCIO_23%2B.ipynb\" target=\"_parent\"><img src=\"https://colab.research.google.com/assets/colab-badge.svg\" alt=\"Open In Colab\"/></a>"
      ]
    },
    {
      "cell_type": "code",
      "execution_count": 15,
      "metadata": {
        "colab": {
          "base_uri": "https://localhost:8080/"
        },
        "id": "LpdEEImpvytu",
        "outputId": "62e9eee7-4e81-45fb-e93e-3d1620b671b6"
      },
      "outputs": [
        {
          "output_type": "stream",
          "name": "stdout",
          "text": [
            "A == B False\n",
            "B > A True\n",
            "A < B True\n",
            "A == D True\n",
            "B >= A True\n",
            "C <= B True\n",
            "D != A False\n",
            "D != B True\n"
          ]
        }
      ],
      "source": [
        "#EXERCÍCIO \n",
        "A = 1\n",
        "B = 5\n",
        "C = 2\n",
        "D = 1\n",
        "print(\"A == B {}\".format(A == B)) #  (A)  igual a     (B)\n",
        "print(\"B > A {}\".format(B > A))   #  B  maior que     (A)\n",
        "print(\"A < B {}\".format(A < B))   #  A  menor que     (B)\n",
        "print(\"A == D {}\".format(A == D)) #  A  igual a       D\n",
        "print(\"B >= A {}\".format(B >= A)) #  B  maior igual a A\n",
        "print(\"C <= B {}\".format(C <= B)) #  C  menor igual a B\n",
        "print(\"D != A {}\".format(D != A)) #  D diferente de   A \n",
        "print(\"D != B {}\".format(D != B)) #  D diferente de   B"
      ]
    },
    {
      "cell_type": "code",
      "source": [
        "#EXERCÍCIO 5.23\n",
        "#Escreva o código da figura 5.5 de modo a armazenar os valores lógicos em\n",
        "#variáveis, e após isso, mostrar o resultado como na figura mencionada.\n",
        "print(\"<><><>OOOO MOSTRE OS VALORES LÓGICO <><><>OOOO\")\n",
        "print(\"===============================\")\n",
        "A = int(input(\"INFORME O VALOR DE A \"))\n",
        "B = int(input(\"INFORME O VALOR DE B \"))\n",
        "C = int(input(\"INFORME O VALOR DE C \"))\n",
        "D = int(input(\"INFORME O VALOR DE D \"))\n",
        "print(\"=============================\")\n",
        "E = (A == B)\n",
        "F = (B > A)\n",
        "G = (A < B)\n",
        "H = (A == D)\n",
        "I = (B >= A)\n",
        "J = (C <= B)\n",
        "L = (D != A)\n",
        "M = (D != B)\n",
        "\n",
        "print(\"O VALOR INFORMADO DE A FOI {}\".format(A))\n",
        "print(\"O VALOR INFORMADO DE B FOI {}\".format(B))\n",
        "print(\"O VALOR INFORMADO DE C FOI {}\".format(C))\n",
        "print(\"O VALOR INFORMADO DE D FOI {}\".format(D))\n",
        "print(\"===============================\")\n",
        "print(\"**** RESULTADO DE CADA LÓGICA ****\")\n",
        "print(\"O VALOR LÓGICO DE: (E) É ({})\".format(E))\n",
        "print(\"O VALOR LÓGICO DE: (F) É ({})\".format(F))\n",
        "print(\"O VALOR LÓGICO DE: (G) É ({})\".format(G))\n",
        "print(\"O VALOR LÓGICO DE: (H) É ({})\".format(H))\n",
        "print(\"O VALOR LÓGICO DE: (I) É ({})\".format(I))\n",
        "print(\"O VALOR LÓGICO DE: (J) É ({})\".format(J))\n",
        "print(\"O VALOR LÓGICO DE: (L) É ({})\".format(L))\n",
        "print(\"O VALOR LÓGICO DE: (M) É ({})\".format(M))\n",
        "print(\"==== FIM====\")"
      ],
      "metadata": {
        "colab": {
          "base_uri": "https://localhost:8080/"
        },
        "id": "ZCyvFODk4D26",
        "outputId": "678b3f1d-b332-4d30-9aca-8c77fe51cd81"
      },
      "execution_count": 36,
      "outputs": [
        {
          "output_type": "stream",
          "name": "stdout",
          "text": [
            "<><><>OOOO MOSTRE OS VALORES LÓGICO <><><>OOOO\n",
            "===============================\n",
            "INFORME O VALOR DE A 4\n",
            "INFORME O VALOR DE B 4\n",
            "INFORME O VALOR DE C 4\n",
            "INFORME O VALOR DE D 4\n",
            "=============================\n",
            "O VALOR INFORMADO DE A FOI 4\n",
            "O VALOR INFORMADO DE B FOI 4\n",
            "O VALOR INFORMADO DE C FOI 4\n",
            "O VALOR INFORMADO DE D FOI 4\n",
            "===============================\n",
            "**** RESULTADO DE CADA LÓGICA ****\n",
            "O VALOR LÓGICO DE: (E) É (True)\n",
            "O VALOR LÓGICO DE: (F) É (False)\n",
            "O VALOR LÓGICO DE: (G) É (False)\n",
            "O VALOR LÓGICO DE: (H) É (True)\n",
            "O VALOR LÓGICO DE: (I) É (True)\n",
            "O VALOR LÓGICO DE: (J) É (True)\n",
            "O VALOR LÓGICO DE: (L) É (False)\n",
            "O VALOR LÓGICO DE: (M) É (False)\n",
            "==== FIM====\n"
          ]
        }
      ]
    },
    {
      "cell_type": "code",
      "source": [
        "#Exercício 5.24 \n",
        "#Construa um programa em python que tenha como entrada a idade de uma\n",
        "#pessoa, e diga se ela é maior ou menor de idade.\n",
        "print(\"====== INFORMA A MAIOR IDADE ======\")\n",
        "idade = int(input(\"DIGITE A SUA IDADE ---->  \"))\n",
        "print(\"A IDADE INFORMADA FOI {}\".format(idade))\n",
        "if idade <= 17:\n",
        "     print(\"VOCÊ É MENOR DE IDADE\")\n",
        "else:\n",
        "     print(\"VOCÊ É MAIOR DE IDADE\")\n"
      ],
      "metadata": {
        "colab": {
          "base_uri": "https://localhost:8080/"
        },
        "id": "CfnoplsiKHFG",
        "outputId": "2e7eaefc-d90b-4dc7-8a03-2d0d76114a19"
      },
      "execution_count": 58,
      "outputs": [
        {
          "output_type": "stream",
          "name": "stdout",
          "text": [
            "====== INFORMA A MAIOR IDADE ======\n",
            "DIGITE A SUA IDADE ---->  18\n",
            "A IDADE INFORMADA FOI 18\n",
            "VOCÊ É MAIOR DE IDADE\n"
          ]
        }
      ]
    },
    {
      "cell_type": "code",
      "source": [
        "#Exercício 5.25 \n",
        "#Construa um programa em python que lei as 4 notas de um aluno e diga se\n",
        "#ele foi aprovado ou não. Considere que para ser aprovado, necessita que a média das notas\n",
        "#seja igual ou maior que 8.\n",
        "print(\"########### RELATÓRIO FINAL DA TURMA ##########\")\n",
        "print(\"===============================================\")\n",
        "NOT1 = float(input(\"INFORME A NOTA 1 --->\"))\n",
        "NOT2 = float(input(\"INFORME A NOTA 2 --->\" ))\n",
        "NOT3 = float(input(\"INFORME A NOTA 3 --->\"))\n",
        "NOT4 = float(input(\"INFORME A NOTA 4 --->\"))\n",
        "print(\"==============================================\")\n",
        "MEDIA = (NOT1 + NOT2 + NOT3 + NOT4) / 4\n",
        "print(\"SUA MÉDIA FOI:{:2f}\".format(MEDIA))\n",
        "if MEDIA >= 8:\n",
        "  print(\"PARABÉNS VOCÊ FOI APROVADO!!!\")\n",
        "else:\n",
        "  print(\"NÃO FOI DESSA VEZ, ESTUDE MAIS!!!\")\n",
        "\n",
        "print(\"=============================================\")  \n",
        "\n",
        "\n",
        "\n"
      ],
      "metadata": {
        "colab": {
          "base_uri": "https://localhost:8080/"
        },
        "id": "Bii2dw2YXkUp",
        "outputId": "3bbb321e-f99b-43a6-f07c-11d5db7867fd"
      },
      "execution_count": 63,
      "outputs": [
        {
          "output_type": "stream",
          "name": "stdout",
          "text": [
            "########### RELATÓRIO FINAL DA TURMA ##########\n",
            "===============================================\n",
            "INFORME A NOTA 1 --->9.8\n",
            "INFORME A NOTA 2 --->8.6\n",
            "INFORME A NOTA 3 --->9.4\n",
            "INFORME A NOTA 4 --->7.5\n",
            "==============================================\n",
            "SUA MÉDIA FOI:8.825000\n",
            "PARABÉNS VOCÊ FOI APROVADO!!!\n",
            "=============================================\n"
          ]
        }
      ]
    },
    {
      "cell_type": "code",
      "source": [
        "#Exercício 5.26 \n",
        "#Construa um programa em python que diga se um carro é econômico ou não.\n",
        "#Para isso, tenha como entrada os parâmetros distância percorrida e quantidade, em litros, de\n",
        "#combustível consumido. Para o carro ser econômico, considere que o consumo (distância\n",
        "#percorrida / quantidade de combustível consumido) deve ser maior ou igual a 18.\n"
      ],
      "metadata": {
        "id": "sHktaBD3d-Od"
      },
      "execution_count": null,
      "outputs": []
    }
  ]
}
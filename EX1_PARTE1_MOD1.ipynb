{
  "nbformat": 4,
  "nbformat_minor": 0,
  "metadata": {
    "colab": {
      "name": "EX1_PARTE1_MOD1",
      "provenance": [],
      "authorship_tag": "ABX9TyMgnMiDyVvyB+QP8cuR/65V",
      "include_colab_link": true
    },
    "kernelspec": {
      "name": "python3",
      "display_name": "Python 3"
    },
    "language_info": {
      "name": "python"
    }
  },
  "cells": [
    {
      "cell_type": "markdown",
      "metadata": {
        "id": "view-in-github",
        "colab_type": "text"
      },
      "source": [
        "<a href=\"https://colab.research.google.com/github/Leocadio22/Repositorio_Luiz/blob/main/EX1_PARTE1_MOD1.ipynb\" target=\"_parent\"><img src=\"https://colab.research.google.com/assets/colab-badge.svg\" alt=\"Open In Colab\"/></a>"
      ]
    },
    {
      "cell_type": "code",
      "execution_count": 64,
      "metadata": {
        "colab": {
          "base_uri": "https://localhost:8080/"
        },
        "id": "_3sq_hDL7mtP",
        "outputId": "f3b512a2-5c36-427f-9e16-2babf2baa252"
      },
      "outputs": [
        {
          "output_type": "stream",
          "name": "stdout",
          "text": [
            "\n"
          ]
        }
      ],
      "source": [
        "\n",
        "coca = 1500\n",
        "pepsi = 1300\n",
        "print()\n",
        "prec_unit_coca =1.50\n",
        "prec_unit_pepsi =1.50\n",
        "custo_loja = 2500"
      ]
    },
    {
      "cell_type": "code",
      "source": [
        "print(\"====INFOME O FATURAMENTO DA PEPSI======\")\n",
        "\n",
        "FT_PEPSI = pepsi * prec_unit_pepsi\n",
        "print(\" O FATURAMENTO TOTAL DO PRODUTO R$ {}\".format(FT_PEPSI))"
      ],
      "metadata": {
        "colab": {
          "base_uri": "https://localhost:8080/"
        },
        "id": "GU6Tgc_0_77u",
        "outputId": "5ec41072-24a0-4b38-9d05-e32fcc5db583"
      },
      "execution_count": 65,
      "outputs": [
        {
          "output_type": "stream",
          "name": "stdout",
          "text": [
            "====INFOME O FATURAMENTO DA PEPSI======\n",
            " O FATURAMENTO TOTAL DO PRODUTO R$ 1950.0\n"
          ]
        }
      ]
    },
    {
      "cell_type": "code",
      "source": [
        "print(\"====INFOME O FATURAMENTO DA COCA-COLA======\")\n",
        "\n",
        "FT_COCA = coca * prec_unit_coca\n",
        "print(\" O FATURAMENTO TOTAL DO PRODUTO R$ {}\".format(FT_COCA))\n"
      ],
      "metadata": {
        "colab": {
          "base_uri": "https://localhost:8080/"
        },
        "id": "i6d6DMp6CFLM",
        "outputId": "7058b5f8-26ac-4599-b549-d8d5b35a367d"
      },
      "execution_count": 66,
      "outputs": [
        {
          "output_type": "stream",
          "name": "stdout",
          "text": [
            "====INFOME O FATURAMENTO DA COCA-COLA======\n",
            " O FATURAMENTO TOTAL DO PRODUTO R$ 2250.0\n"
          ]
        }
      ]
    },
    {
      "cell_type": "code",
      "source": [
        "print(\"==== FATURAMENTO DA LOJA (LUCRO) ======\")\n",
        "\n",
        "FATURAMENTO =( FT_PEPSI + FT_COCA)\n",
        "print(\"O FATURAMENTO DA LOJA R$ {}\".format(FATURAMENTO))\n"
      ],
      "metadata": {
        "colab": {
          "base_uri": "https://localhost:8080/"
        },
        "id": "3osZgQWRC1ne",
        "outputId": "64eb7468-0594-43b1-e09d-60a249afcd97"
      },
      "execution_count": 67,
      "outputs": [
        {
          "output_type": "stream",
          "name": "stdout",
          "text": [
            "==== FATURAMENTO DA LOJA (LUCRO) ======\n",
            "O FATURAMENTO DA LOJA R$ 4200.0\n"
          ]
        }
      ]
    },
    {
      "cell_type": "code",
      "source": [
        "print(\"==== LUCRO DA LOJA  ======\")\n",
        "LUCRO = FATURAMENTO - custo_loja \n",
        "print(\"O LUCRO DA LOJA FOI R$ {}\".format(LUCRO))"
      ],
      "metadata": {
        "colab": {
          "base_uri": "https://localhost:8080/"
        },
        "id": "qYFs7tdQLYNS",
        "outputId": "d0bcb4de-cf65-436b-e406-c6c2c4f74fff"
      },
      "execution_count": 68,
      "outputs": [
        {
          "output_type": "stream",
          "name": "stdout",
          "text": [
            "==== LUCRO DA LOJA  ======\n",
            "O LUCRO DA LOJA FOI R$ 1700.0\n"
          ]
        }
      ]
    },
    {
      "cell_type": "code",
      "source": [
        "print(\"====  MARGEM DE LUCRO) ======\")\n",
        "\n",
        "MARGEM = (LUCRO/ FATURAMENTO)*100\n",
        "print(\"A MARGEM DE LUCRO DA LOJA FOI {:.2f} %\".format(MARGEM))"
      ],
      "metadata": {
        "colab": {
          "base_uri": "https://localhost:8080/"
        },
        "id": "MEiJkQenFjJU",
        "outputId": "7d514d76-07f8-4996-c0f9-f1d7339fb5c4"
      },
      "execution_count": 70,
      "outputs": [
        {
          "output_type": "stream",
          "name": "stdout",
          "text": [
            "====  MARGEM DE LUCRO) ======\n",
            "A MARGEM DE LUCRO DA LOJA FOI 40.48 %\n"
          ]
        }
      ]
    }
  ]
}
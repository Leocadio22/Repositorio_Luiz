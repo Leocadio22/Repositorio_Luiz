{
  "nbformat": 4,
  "nbformat_minor": 0,
  "metadata": {
    "colab": {
      "name": "ex1_mod1",
      "provenance": [],
      "authorship_tag": "ABX9TyPaK/B4qqrZUKB915N1JIZQ",
      "include_colab_link": true
    },
    "kernelspec": {
      "name": "python3",
      "display_name": "Python 3"
    },
    "language_info": {
      "name": "python"
    }
  },
  "cells": [
    {
      "cell_type": "markdown",
      "metadata": {
        "id": "view-in-github",
        "colab_type": "text"
      },
      "source": [
        "<a href=\"https://colab.research.google.com/github/Leocadio22/Repositorio_Luiz/blob/main/ex1_mod1.ipynb\" target=\"_parent\"><img src=\"https://colab.research.google.com/assets/colab-badge.svg\" alt=\"Open In Colab\"/></a>"
      ]
    },
    {
      "cell_type": "code",
      "execution_count": 16,
      "metadata": {
        "colab": {
          "base_uri": "https://localhost:8080/"
        },
        "id": "XcbKZdukOSul",
        "outputId": "7a754218-4617-4246-d094-3e8ead41b9b1"
      },
      "outputs": [
        {
          "output_type": "stream",
          "name": "stdout",
          "text": [
            "====== RELATÓRIO MÊNSAL DA LOJA HASHTAG&DRINK ====== \n",
            "DIGITE A QUANTIDADE DE PRODUTO COCA-COLA VENDIDO NO MÊS \n",
            "\n",
            "QUANTIDADE  6\n",
            "DIGITE O PREÇO DE CADA UNIDADE DE COCA-COLA \n",
            "\n",
            "VALOR UNITÁRIO R$ 6\n",
            "DIGITE A QUANTIDADE DE PRODUTO PEPSI VENDIDO NO MÊS\n",
            "\n",
            "QUANTIDADE 6\n",
            "DIGITE O PREÇO DE CADA UNIDADE DE PEPSI \n",
            "\n",
            "VALOR UNITÁRIO R$ 6\n",
            "\n",
            "\n",
            "======INFORME O RELATÓRIO DE VENDAS DAS BEBIDAS ==========\n",
            "\n",
            "\n"
          ]
        }
      ],
      "source": [
        "print(\"====== RELATÓRIO MÊNSAL DA LOJA HASHTAG&DRINK ====== \")\n",
        "\n",
        "COCA = int(input(\"DIGITE A QUANTIDADE DE PRODUTO COCA-COLA VENDIDO NO MÊS \\n\\nQUANTIDADE  \"))\n",
        "PREC_UNIT_COCA = float(input(\"DIGITE O PREÇO DE CADA UNIDADE DE COCA-COLA \\n\\nVALOR UNITÁRIO R$ \"))\n",
        "PEPSI = int(input(\"DIGITE A QUANTIDADE DE PRODUTO PEPSI VENDIDO NO MÊS\\n\\nQUANTIDADE \"))\n",
        "PREC_UNIT_PEPSI = float(input(\"DIGITE O PREÇO DE CADA UNIDADE DE PEPSI \\n\\nVALOR UNITÁRIO R$ \" ))\n",
        "\n",
        "print(\"\\n\\n======INFORME O RELATÓRIO DE VENDAS DAS BEBIDAS ==========\\n\\n\")\n",
        "\n",
        "\n"
      ]
    }
  ]
}
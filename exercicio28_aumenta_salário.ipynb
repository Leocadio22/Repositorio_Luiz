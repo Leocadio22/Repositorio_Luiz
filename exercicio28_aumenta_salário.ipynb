{
  "nbformat": 4,
  "nbformat_minor": 0,
  "metadata": {
    "colab": {
      "name": "exercicio28 aumenta salário",
      "provenance": [],
      "authorship_tag": "ABX9TyOB+fz+uD40r8Qxx9julfkl",
      "include_colab_link": true
    },
    "kernelspec": {
      "name": "python3",
      "display_name": "Python 3"
    },
    "language_info": {
      "name": "python"
    }
  },
  "cells": [
    {
      "cell_type": "markdown",
      "metadata": {
        "id": "view-in-github",
        "colab_type": "text"
      },
      "source": [
        "<a href=\"https://colab.research.google.com/github/Leocadio22/Repositorio_Luiz/blob/main/exercicio28_aumenta_sal%C3%A1rio.ipynb\" target=\"_parent\"><img src=\"https://colab.research.google.com/assets/colab-badge.svg\" alt=\"Open In Colab\"/></a>"
      ]
    },
    {
      "cell_type": "code",
      "execution_count": 21,
      "metadata": {
        "colab": {
          "base_uri": "https://localhost:8080/"
        },
        "id": "6BeWXxvRNOK4",
        "outputId": "25c8e8a7-d2c5-4b93-d52f-507794c80a76"
      },
      "outputs": [
        {
          "output_type": "stream",
          "name": "stdout",
          "text": [
            "====== TABELA DE AJUSTE SALÁRIAL =====\n",
            "DIGITE O NOME DO FUNCIONÁRIO luia\n",
            "DIGITE O SALÁRIO DO FUNCIONÁRIO 900000\n",
            "DIGITE O VALOR DO SALÁRIO MÍNIMO 1000\n",
            "O FUNCIONARIO TEM DIREITO A UM AUMENTO DE 20%\n",
            "O SALARIO NOVO SERÁ DE R$ 1080000.0\n"
          ]
        }
      ],
      "source": [
        "#@title\n",
        "#algoritmo \"ex28\"\n",
        "#// Função : Escrever um algoritmo para uma empresa que decide dar um\n",
        "#// reajuste a seus 584 funcionários de acordo com os\n",
        "#// seguintes critérios:\n",
        "#// a) 50% para aqueles que ganham menos do que três salários mínimos;\n",
        "#// b) 20% para aqueles que ganham entre três até dez salários mínimos;\n",
        "#// c) 15% para aqueles que ganham acima de dez até vinte salários mínimos;\n",
        "#// d) 10% para os demais funcionários.\n",
        "#// Leia o nome do funcionário, seu salário e o valor do salário mínimo.\n",
        "#// Calcule o seu novo salário reajustado. Escrever o\n",
        "#// nome do funcionário, o reajuste e seu novo salário. Calcule quanto à\n",
        "#// empresa vai aumentar sua folha de pagamento.\n",
        "#// Seção de Declarações\n",
        " #print(\"NO NOME INFORMADO É {}\\nO SALÁRIO DO FUNCIONÁRIO É R$ {}\\nO SALÁRIO MÍNIMO É R$ {}\\nA CONDIÇÃO É {}\".format(nome,SAL_FUNC,SAL_MIN,CONDICAO))\n",
        "print(\"====== TABELA DE AJUSTE SALÁRIAL =====\")\n",
        "nome = str(input(\"DIGITE O NOME DO FUNCIONÁRIO \"))\n",
        "SAL_FUNC = float(input(\"DIGITE O SALÁRIO DO FUNCIONÁRIO \"))\n",
        "SAL_MIN = float(input(\"DIGITE O VALOR DO SALÁRIO MÍNIMO \"))\n",
        "if SAL_FUNC <= (3 * SAL_MIN):\n",
        "  print(\"O FUNCIONARIO TEM DIREITO A UM AUMENTO DE 50%\")\n",
        "  NOVO_SAL = SAL_FUNC * 1.5\n",
        "  print(\"O SALARIO NOVO SERÁ DE R$ {}\".format(NOVO_SAL)) \n",
        "else:\n",
        "  if SAL_FUNC > (10 * SAL_MIN):\n",
        "    print(\"O FUNCIONARIO TEM DIREITO A UM AUMENTO DE 20%\")\n",
        "    NOVO_SAL = (3 * SAL_MIN)\n",
        "    print(\"O SALARIO NOVO SERÁ DE R$ {}\".format(NOVO_SAL))\n",
        "  else: \n",
        "    print(\"O FUNCIONARIO NAO TEM DIREITO A AUMENTO\")     "
      ]
    }
  ]
}
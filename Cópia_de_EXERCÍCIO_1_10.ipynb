{
  "nbformat": 4,
  "nbformat_minor": 0,
  "metadata": {
    "colab": {
      "name": "Cópia de EXERCÍCIO 1-10",
      "provenance": [],
      "collapsed_sections": [],
      "toc_visible": true,
      "authorship_tag": "ABX9TyMu2kE5zC7LE3zVK/DuMb8P",
      "include_colab_link": true
    },
    "kernelspec": {
      "name": "python3",
      "display_name": "Python 3"
    },
    "language_info": {
      "name": "python"
    }
  },
  "cells": [
    {
      "cell_type": "markdown",
      "metadata": {
        "id": "view-in-github",
        "colab_type": "text"
      },
      "source": [
        "<a href=\"https://colab.research.google.com/github/Leocadio22/Repositorio_Luiz/blob/main/C%C3%B3pia_de_EXERC%C3%8DCIO_1_10.ipynb\" target=\"_parent\"><img src=\"https://colab.research.google.com/assets/colab-badge.svg\" alt=\"Open In Colab\"/></a>"
      ]
    },
    {
      "cell_type": "code",
      "execution_count": null,
      "metadata": {
        "colab": {
          "base_uri": "https://localhost:8080/"
        },
        "id": "guJq7GZDl2F9",
        "outputId": "8156219c-a287-4e1a-d667-bef2b3f6d33c"
      },
      "outputs": [
        {
          "output_type": "stream",
          "name": "stdout",
          "text": [
            "Luiz\n"
          ]
        }
      ],
      "source": [
        "#EXERCÍCIO 5.3\n",
        "print(\"Luiz\")"
      ]
    },
    {
      "cell_type": "code",
      "source": [
        "#EXERCÍCIO 5.4\n",
        "a = 3\n",
        "b = 5\n",
        "print(2*a * 3*b )"
      ],
      "metadata": {
        "colab": {
          "base_uri": "https://localhost:8080/"
        },
        "id": "8Jwpk_uknlN-",
        "outputId": "e94e0167-e836-4874-a043-af1d1762a3a8"
      },
      "execution_count": null,
      "outputs": [
        {
          "output_type": "stream",
          "name": "stdout",
          "text": [
            "90\n"
          ]
        }
      ]
    },
    {
      "cell_type": "code",
      "source": [
        "#EXERCÍCIO 5.5\n",
        "a = 4\n",
        "b = 5\n",
        "c = 8\n",
        "print(a + b + c )"
      ],
      "metadata": {
        "colab": {
          "base_uri": "https://localhost:8080/"
        },
        "id": "m5DxBs4msIdr",
        "outputId": "ef06f679-db68-4abe-ccb1-224e9457dd7e"
      },
      "execution_count": null,
      "outputs": [
        {
          "output_type": "stream",
          "name": "stdout",
          "text": [
            "17\n"
          ]
        }
      ]
    },
    {
      "cell_type": "code",
      "source": [
        "#EXERCÍCIO 5.6\n",
        "salario = 750\n",
        "aumento = 15\n",
        "print (salario + (salario * 15/100))\n"
      ],
      "metadata": {
        "colab": {
          "base_uri": "https://localhost:8080/"
        },
        "id": "Nt61mWhfs0-c",
        "outputId": "9fe3ab5b-2119-4be0-85b5-2e9480b5072b"
      },
      "execution_count": null,
      "outputs": [
        {
          "output_type": "stream",
          "name": "stdout",
          "text": [
            "862.5\n"
          ]
        }
      ]
    },
    {
      "cell_type": "code",
      "source": [
        "#EXERCÍCIO 5.7\n",
        "mt = 1\n",
        "cm = float(input(\"DIGITE A DISTANCIA EM CENTIMETRO \"))\n",
        "cm = mt * 10\n",
        "print(\"A distância em {} cm\".format(cm))"
      ],
      "metadata": {
        "colab": {
          "base_uri": "https://localhost:8080/"
        },
        "id": "_J6QxAVZtjhN",
        "outputId": "92202bd1-d88a-4953-f2d1-592834573734"
      },
      "execution_count": null,
      "outputs": [
        {
          "output_type": "stream",
          "name": "stdout",
          "text": [
            "DIGITE A DISTANCIA EM CENTIMETRO 3\n",
            "A distância em 10 cm\n"
          ]
        }
      ]
    },
    {
      "cell_type": "code",
      "source": [
        "#EXERCÍCIO 5.8\n",
        "print(\"--\" * 12)\n",
        "print(\"<><><> TABUADA <><><>\")\n",
        "numero = int(input(\"DIGITE O NUMERO DA TABUADA DESEJADA: \"))\n",
        "print('{} x {:2} = {}'.format(numero, 1, numero * 1))\n",
        "print(\"{} x {:2} = {}\".format(numero, 2, numero * 2))\n",
        "print('{} x {:2} = {}'.format(numero, 3, numero * 3))\n",
        "print('{} x {:2} = {}'.format(numero, 4, numero * 4))\n",
        "print('{} x {:2} = {}'.format(numero, 5, numero * 5))\n",
        "print('{} x {:2} = {}'.format(numero, 6, numero * 6))\n",
        "print('{} x {:2} = {}'.format(numero, 7, numero * 7))\n",
        "print('{} x {:2} = {}'.format(numero, 8, numero * 8))\n",
        "print('{} x {:2} = {}'.format(numero, 9, numero * 9))\n",
        "print('{} x {:2} = {}'.format(numero, 10, numero * 10))\n",
        "print(\"<><><> FIM <><><>\")"
      ],
      "metadata": {
        "colab": {
          "base_uri": "https://localhost:8080/"
        },
        "id": "p7pL7holv8K8",
        "outputId": "63892483-de6b-4975-dbd2-23f242908c06"
      },
      "execution_count": null,
      "outputs": [
        {
          "output_type": "stream",
          "name": "stdout",
          "text": [
            "------------------------\n",
            "<><><> TABUADA <><><>\n",
            "DIGITE O NUMERO DA TABUADA DESEJADA: 7\n",
            "7 x  1 = 7\n",
            "7 x  2 = 14\n",
            "7 x  3 = 21\n",
            "7 x  4 = 28\n",
            "7 x  5 = 35\n",
            "7 x  6 = 42\n",
            "7 x  7 = 49\n",
            "7 x  8 = 56\n",
            "7 x  9 = 63\n",
            "7 x 10 = 70\n",
            "<><><> FIM <><><>\n"
          ]
        }
      ]
    },
    {
      "cell_type": "code",
      "source": [
        "#EXERCÍCIO 5.9\n",
        "nota1 = float(input(\"DIGITE A PRIMEIRA NOTA \"))\n",
        "nota2 = float(input(\"DIGITE A SEGUNDA NOTA \"))\n",
        "media = (nota1 + nota2) / 2\n",
        "print(\"A NOTA 1 FOI {}\\nA NOTA 2 FOI {}\\nA MÉDIA OBTIDA FOI {}\".format(nota1, nota2, media))\n"
      ],
      "metadata": {
        "colab": {
          "base_uri": "https://localhost:8080/"
        },
        "id": "DnrD_koM9rDK",
        "outputId": "7ab90fec-0f69-4050-fd60-d16effc4f38a"
      },
      "execution_count": null,
      "outputs": [
        {
          "output_type": "stream",
          "name": "stdout",
          "text": [
            "DIGITE A PRIMEIRA NOTA 5\n",
            "DIGITE A SEGUNDA NOTA 7\n",
            "A NOTA 1 FOI 5.0\n",
            "A NOTA 2 FOI 7.0\n",
            "A MÉDIA OBTIDA FOI 6.0\n"
          ]
        }
      ]
    },
    {
      "cell_type": "code",
      "source": [
        "#EXERCÍCIO 5.10\n",
        "salario = float(input(\"DIGITE O SALÁRIO ATUAL R$ \"))\n",
        "taxa1 = 15\n",
        "taxa2 = 10\n",
        "taxa3 = 5\n",
        "aumento1 = salario + (salario * taxa1/100)\n",
        "aumento2 = salario + (salario * taxa2/100)\n",
        "aumento3 = salario + (salario * taxa3/100)\n",
        "print(\"O NOVO SALÁRIO COM O REAJUSTE PARA AS 3 SITUAÇÕES SÃO :\\nSITUACÃO 1 R${} TEVE UM AUMENTO DE R${} COM TAXA DE {}%\\nSITUAÇÃO 2 R${}\\nSITUAÇÃO 3 R${}\".format(aumento1,salario*taxa1/100,taxa1, aumento2, aumento3))"
      ],
      "metadata": {
        "colab": {
          "base_uri": "https://localhost:8080/"
        },
        "id": "e2igVGqMBi3P",
        "outputId": "e7f889b5-c4de-44ed-e998-8f2696e2ec13"
      },
      "execution_count": null,
      "outputs": [
        {
          "output_type": "stream",
          "name": "stdout",
          "text": [
            "DIGITE O SALÁRIO ATUAL R$ 5000\n",
            "O NOVO SALÁRIO COM O REAJUSTE PARA AS 3 SITUAÇÕES SÃO :\n",
            "SITUACÃO 1 R$5750.0 TEVE UM AUMENTO DE R$750.0 COM TAXA DE 15%\n",
            "SITUAÇÃO 2 R$5500.0\n",
            "SITUAÇÃO 3 R$5250.0\n"
          ]
        }
      ]
    },
    {
      "cell_type": "code",
      "source": [
        "#EXERCÍCIO 5.11\n",
        "print(\"<><><> SOMA DE DOIS ALGORITMO<><><>\")\n",
        "num1 = int(input(\"DIGITE O PRIMEIRO NÚMERO \"))\n",
        "num2 = int(input(\"DIGITE O SEGUNDO NÚMERO \"))\n",
        "SOMA = num1 + num2\n",
        "\n",
        "print(\"O PRIMEIRO NÚMERO FOI {}\\nO SEGUNDO NÚMERO FOI {}\\nA SOMA É {} \".format(num1, num2, SOMA))"
      ],
      "metadata": {
        "colab": {
          "base_uri": "https://localhost:8080/"
        },
        "id": "dPG1ID03PgKj",
        "outputId": "97f14963-8fd3-486a-a866-9182848015e1"
      },
      "execution_count": null,
      "outputs": [
        {
          "output_type": "stream",
          "name": "stdout",
          "text": [
            "<><><> SOMA DE DOIS ALGORITMO<><><>\n",
            "DIGITE O PRIMEIRO NÚMERO 8\n",
            "DIGITE O SEGUNDO NÚMERO 8\n",
            "O PRIMEIRO NÚMERO FOI 8\n",
            "O SEGUNDO NÚMERO FOI 8\n",
            "A SOMA É 16 \n"
          ]
        }
      ]
    },
    {
      "cell_type": "code",
      "source": [
        "#EXERCÍCIO 5.12\n",
        "print(\"<><><><><><>\")\n",
        "NUM1 = float(input(\"DIGITE O PRIMEIRO NÚMERO \"))\n",
        "NUM2 = float(input(\"DIGITE O SEGUNDO NÚMERO \"))\n",
        "\n",
        "SOM= NUM1 + NUM2\n",
        "SUBT =NUM1 - NUM2\n",
        "MULT = NUM1 * NUM2 \n",
        "DIVI  = NUM1 / NUM2\n",
        "\n",
        "print(\"A SOMA É :{}\\nA SUBTRAÇÃO É :{}\\nA MULTIPLICAÇÃO É :{}\\nA DIVISÃO É :{} \".format(SOM,SUBT,MULT,DIVI))\n"
      ],
      "metadata": {
        "colab": {
          "base_uri": "https://localhost:8080/"
        },
        "id": "9WzTyQVoSnuZ",
        "outputId": "2cc54dda-2cfa-4e14-d873-9e96532c5646"
      },
      "execution_count": null,
      "outputs": [
        {
          "output_type": "stream",
          "name": "stdout",
          "text": [
            "<><><><><><>\n",
            "DIGITE O PRIMEIRO NÚMERO 9\n",
            "DIGITE O SEGUNDO NÚMERO 9\n",
            "A SOMA É :18.0\n",
            "A SUBTRAÇÃO É :0.0\n",
            "A MULTIPLICAÇÃO É :81.0\n",
            "A DIVISÃO É :1.0 \n"
          ]
        }
      ]
    },
    {
      "cell_type": "code",
      "source": [
        "#EXERCÍCIO 5.13\n",
        "print(\"<><><> CONSUMO MÉDIO DE UM ALTOMÁVEL<><><>\")\n",
        "distancia = float(input(\"INFORME A DISTÂNCIA TOTAL PERCORIDA \"))\n",
        "combustivel_gasto = float(input(\"INFORME O COMBUSTIVEL GASTO \"))\n",
        "consumo_medio = distancia / combustivel_gasto\n",
        "print(\"A DISTÂNCIA TOTAL PERCORRIDA FOI {} KM\\nO CONSUMO DE COMBUSTIVEM GASTO FOI {} L\\nO CONSUMO MEDIO É {} KM/L\".format(distancia, combustivel_gasto, consumo_medio))\n"
      ],
      "metadata": {
        "colab": {
          "base_uri": "https://localhost:8080/"
        },
        "id": "tfqE2fjNGYLr",
        "outputId": "2d63c474-3761-4886-a69d-54e4ae4753e3"
      },
      "execution_count": null,
      "outputs": [
        {
          "output_type": "stream",
          "name": "stdout",
          "text": [
            "<><><> CONSUMO MÉDIO DE UM ALTOMÁVEL<><><>\n",
            "INFORME A DISTÂNCIA TOTAL PERCORIDA 600\n",
            "INFORME O COMBUSTIVEL GASTO 40\n",
            "A DISTÂNCIA TOTAL PERCORRIDA FOI 600.0 KM\n",
            "O CONSUMO DE COMBUSTIVEM GASTO FOI 40.0 L\n",
            "O CONSUMO MEDIO É 15.0 KM/L\n"
          ]
        }
      ]
    },
    {
      "cell_type": "code",
      "source": [
        "#EXERCÍCIO 5.14\n",
        "print(\"<><><> RELATÓRIO DE PAGAMENTO DO TIME DE VENDO<><><>\")\n",
        "NOME = str(input(\"INFORME O NOME DO VENDEDOR \"))\n",
        "SAL_FIXO = float(input(\"INFORME O SALÁRIO ATUAL DO VENDEDOR \"))\n",
        "TOTAL_VENDAS = float(input(\"INFORME O TOTAL DAS VENDAS \"))\n",
        "TAXA = float(input(\"INFORME A TAXA DE COMISSÃO \"))\n",
        "COMISSÃO = TOTAL_VENDAS * (TAXA / 100)\n",
        "SAL_FINAL = SAL_FIXO + COMISSÃO\n",
        "\n",
        "print(\"O NOME DO VENDEDOR É :{}\\nO SALÁRIO FIXO É R$ {}\\nTOTAL DE COMISSÃO A RECEBER R$ {}\\nO SALÁRIO FINAL A RECEBER R$ {}\".format(NOME, SAL_FIXO,COMISSÃO, SAL_FINAL))\n"
      ],
      "metadata": {
        "colab": {
          "base_uri": "https://localhost:8080/"
        },
        "id": "7QopFuIxL7M-",
        "outputId": "3c573862-71bf-46f2-ac5f-4b309eaeb1ed"
      },
      "execution_count": null,
      "outputs": [
        {
          "output_type": "stream",
          "name": "stdout",
          "text": [
            "<><><> RELATÓRIO DE PAGAMENTO DO TIME DE VENDO<><><>\n",
            "INFORME O NOME DO VENDEDOR LUIZ\n",
            "INFORME O SALÁRIO ATUAL DO VENDEDOR 6000\n",
            "INFORME O TOTAL DAS VENDAS 60000\n",
            "INFORME A TAXA DE COMISSÃO 1.5\n",
            "O NOME DO VENDEDOR É :LUIZ\n",
            "O SALÁRIO FIXO É R$ 6000.0\n",
            "TOTAL DE COMISSÃO A RECEBER R$ 900.0\n",
            "O SALÁRIO FINAL A RECEBER R$ 6900.0\n"
          ]
        }
      ]
    },
    {
      "cell_type": "code",
      "source": [
        "#EXERCÍCIO 5.15\n",
        "\n",
        "print(\"<><><> RELATÓRIO DA MÉDIA DOS ALUNOS<><><>\")\n",
        "NOME = str(input(\"DIGITE O NOME DO ALUNO \"))\n",
        "NOT1 = float(input(\"INFORME A PRIMEIRA NOTA \"))\n",
        "NOT2 = float(input(\"INFORME A SEGUNDA NOTA \"))\n",
        "NOT3 = float(input(\"INFORME A TERCEIRA NOTA \"))\n",
        "MEDIA = (NOT1 + NOT2 + NOT3) / 3 \n",
        "print(\"O NOME DO ALUNO É {}\\nSUA MEDIA É {}\".format(NOME, MEDIA))"
      ],
      "metadata": {
        "colab": {
          "base_uri": "https://localhost:8080/"
        },
        "id": "764V7hxWXYp_",
        "outputId": "0e1dd61f-8fcc-4921-9c19-1463e2cd5c59"
      },
      "execution_count": null,
      "outputs": [
        {
          "output_type": "stream",
          "name": "stdout",
          "text": [
            "<><><> RELATÓRIO DA MÉDIA DOS ALUNOS<><><>\n",
            "DIGITE O NOME DO ALUNO LUIZ\n",
            "INFORME A PRIMEIRA NOTA 9\n",
            "INFORME A SEGUNDA NOTA 9\n",
            "INFORME A TERCEIRA NOTA 9\n",
            "O NOME DO ALUNO É LUIZ\n",
            "SUA MEDIA É 9.0\n"
          ]
        }
      ]
    },
    {
      "cell_type": "code",
      "source": [
        "#EXERCÍCIO 5.16\n",
        "A = int(input(\"INFORME O VALOR DE A \"))\n",
        "B = int(input(\"INFORME O VALOR DE B \"))\n",
        "A = B\n",
        "B = A\n",
        "print(\" A {}\\nINFORME B {}\".format(A, B))\n"
      ],
      "metadata": {
        "colab": {
          "base_uri": "https://localhost:8080/"
        },
        "id": "3sg2BzRNZuwT",
        "outputId": "4aabe187-26a2-42b4-9fc0-d4b052e87c99"
      },
      "execution_count": null,
      "outputs": [
        {
          "output_type": "stream",
          "name": "stdout",
          "text": [
            "INFORME O VALOR DE A 5\n",
            "INFORME O VALOR DE B 4\n",
            "INFORME A 4\n",
            "INFORME B 4\n"
          ]
        }
      ]
    },
    {
      "cell_type": "code",
      "source": [
        "#EXERCÍCIO 5.17\n",
        "print( \"<><><> CONVERSOR DE TEMPERATURA <><><> \")\n",
        "C = float(input(\"INFORME A TEMPERATURA EM CELSEUS \"))\n",
        "F = (9 * C + 160) / 5\n",
        "print(\"A TEMPERATURA EM FAHRENHEIT É :{}F\\nA TEMPERATURA EM CELSEUS É :{}C\".format(F, C))\n"
      ],
      "metadata": {
        "id": "FYsMOCSLfEzI",
        "colab": {
          "base_uri": "https://localhost:8080/"
        },
        "outputId": "c1d33b9f-00b3-40d6-d9a0-fd7d810f7f57"
      },
      "execution_count": 4,
      "outputs": [
        {
          "output_type": "stream",
          "name": "stdout",
          "text": [
            "<><><> CONVERSOR DE TEMPERATURA <><><> \n",
            "INFORME A TEMPERATURA EM CELSEUS 35\n",
            "A TEMPERATURA EM FAHRENHEIT É :95.0F\n",
            "A TEMPERATURA EM CELSEUS É :35.0C\n"
          ]
        }
      ]
    },
    {
      "cell_type": "code",
      "source": [
        "#EXERCÍCIO 5.18\n",
        "print(\"=== CONVERSÃO DE REAL(R$) PARA DÓLAR($$)===\")\n",
        "REAL = float(input(\"INFORME UMA QUANTIA EM REAIS (R$) \"))\n",
        "COTACAO = float(input(\"INFORME O VALOR DO DÓLAR $$ \"))\n",
        "DOLAR = REAL / COTACAO\n",
        "print(\"COM O VALOR DE R${} VOCÊ COMPRA $${}\".format(REAL, DOLAR))"
      ],
      "metadata": {
        "colab": {
          "base_uri": "https://localhost:8080/"
        },
        "id": "A_e7AVYNEPLm",
        "outputId": "cbfa706e-6a71-4383-fae8-cf8e3f10f7e0"
      },
      "execution_count": 11,
      "outputs": [
        {
          "output_type": "stream",
          "name": "stdout",
          "text": [
            "=== CONVERSÃO DE REAL(R$) PARA DÓLAR($$)===\n",
            "INFORME UMA QUANTIA EM REAIS (R$) 500\n",
            "INFORME O VALOR DO DÓLAR $$ 6.45\n",
            "COM O VALOR DE R$500.0 VOCÊ COMPRA $$77.51937984496124\n"
          ]
        }
      ]
    },
    {
      "cell_type": "code",
      "source": [
        "print(\"====<> RENDIMENTO DA POUPANÇA<>====\")\n",
        "# TAXA DE RENDIMENTO AO MÊS DE 0.70%\n",
        "TAXA = 0.07\n",
        "DEPOSITO = float(input(\"INFORME O VALOR DEPOSITADO R$ \"))\n",
        "RENDIMENTO = (TAXA + 1) * DEPOSITO\n",
        "print(\"O RENDIMENTO APÓS UM MÊS FOI R${}\".format(RENDIMENTO))\n"
      ],
      "metadata": {
        "colab": {
          "base_uri": "https://localhost:8080/"
        },
        "id": "UdQOMEdXHwwI",
        "outputId": "7411c5b6-16c2-44cd-a7dc-1ee378203f25"
      },
      "execution_count": 15,
      "outputs": [
        {
          "output_type": "stream",
          "name": "stdout",
          "text": [
            "====<> RENDIMENTO DA POUPANÇA<>====\n",
            "INFORME O VALOR DEPOSITADO R$ 5000\n",
            "O RENDIMENTO APÓS UM MÊS FOI R$5350.0\n"
          ]
        }
      ]
    },
    {
      "cell_type": "code",
      "source": [
        ""
      ],
      "metadata": {
        "id": "fEnDT1MzORK_"
      },
      "execution_count": null,
      "outputs": []
    }
  ]
}